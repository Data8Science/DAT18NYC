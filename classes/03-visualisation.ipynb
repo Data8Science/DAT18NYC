{
 "metadata": {
  "name": "",
  "signature": "sha256:9f970ff91dbfcf52093d0433063a3b5ff00125e2099a835d134f20c992975386"
 },
 "nbformat": 3,
 "nbformat_minor": 0,
 "worksheets": [
  {
   "cells": [
    {
     "cell_type": "code",
     "collapsed": false,
     "input": [
      "%%html\n",
      "<link rel=\"stylesheet\" href=\"static/hyrule.css\" type=\"text/css\">"
     ],
     "language": "python",
     "metadata": {},
     "outputs": [
      {
       "html": [
        "<link rel=\"stylesheet\" href=\"static/hyrule.css\" type=\"text/css\">"
       ],
       "metadata": {},
       "output_type": "display_data",
       "text": [
        "<IPython.core.display.HTML at 0x105f2a1d0>"
       ]
      }
     ],
     "prompt_number": 6
    },
    {
     "cell_type": "code",
     "collapsed": false,
     "input": [
      "%pylab inline"
     ],
     "language": "python",
     "metadata": {},
     "outputs": [
      {
       "output_type": "stream",
       "stream": "stdout",
       "text": [
        "Populating the interactive namespace from numpy and matplotlib\n"
       ]
      }
     ],
     "prompt_number": 7
    },
    {
     "cell_type": "code",
     "collapsed": false,
     "input": [
      "# pylab inline (either in the notebook or as an argument starting the notebook)\n",
      "# will by default load numpy as np and matplotlib.pylab as plt\n",
      "# Let's import everything else we used last time as well:\n",
      "\n",
      "import pandas as pd\n",
      "import seaborn as sns\n",
      "from __future__ import division\n",
      "pd.set_option('display.max_rows', 500)\n",
      "pd.set_option('display.max_columns', 500)\n",
      "pd.set_option('display.width', 1000)\n",
      "pd.options.display.mpl_style = 'default'"
     ],
     "language": "python",
     "metadata": {},
     "outputs": [],
     "prompt_number": 8
    },
    {
     "cell_type": "heading",
     "level": 1,
     "metadata": {},
     "source": [
      "Data Exploration and Visualisation"
     ]
    },
    {
     "cell_type": "heading",
     "level": 2,
     "metadata": {},
     "source": [
      "Objectives"
     ]
    },
    {
     "cell_type": "markdown",
     "metadata": {},
     "source": [
      "* learn how to group and aggregate data in pandas\n",
      "* learn how to visualise data with pandas\n",
      "* explain the difference between cast and melt in terms of a data frame\n",
      "* explore common visual relationships in data\n",
      "* learn two visualisation packages in python independent of pandas"
     ]
    },
    {
     "cell_type": "heading",
     "level": 2,
     "metadata": {},
     "source": [
      "Code Dictionary"
     ]
    },
    {
     "cell_type": "markdown",
     "metadata": {},
     "source": [
      "### Additional Pandas Code\n",
      "\n",
      "Function         | Description\n",
      "-----------------|------------\n",
      "`.groupby()`     | Creates a groupby object in pandas. pass in either a string (one column) or a list (multiple columns)\n",
      "`.agg()`         | Aggregates data into a new DataFrame from a groupby object\n",
      "`.pivot_table()` | generates a pivot table, akin to those you'd expect in excel.\n",
      "`pd.melt()`      | melts a DataFrame\n",
      "`.plot()`        | general plot using matplotlib of the columns provided, using the index as the x-axis\n",
      "`.hist()`        | generates a histogram using matplotlib of the columns provided, using the index as the x-axis\n",
      "`.boxplot()`     | generates a boxplot, which displays distribution via quartiles and outliers\n",
      "`pd.tools.plotting.scatter_matrix()` | a representation of histograms and scatterplots between columns <br /> Very common to import seperately using from pd.tools.plotting import scatter_matrix\n",
      "\n",
      "<br />\n",
      "### Matplotlib Basics\n",
      "\n",
      "Run this first to generate some data! They'll relate to the matplotlib basics below.\n",
      "\n",
      "```py\n",
      "X = np.linspace(-np.pi, np.pi, 256, endpoint=True)\n",
      "C, S = np.cos(X), np.sin(X)\n",
      "```\n",
      "\n",
      "Matplotlib functions will start with `plt`. In science we work with the concept of a `figure`, which is the space in which plots exist. While the below code is for `plot`, others are common as well (such as `hist`)\n",
      "\n",
      "Code | Description\n",
      "-----|------------\n",
      "`plt.figure(figsize=(8, 6), dpi=80)` | Sets a figure size of 8 by 6 inches, with a dpi of 80\n",
      "`plt.subplot(1, 1, 1)` | Create a new subplot from a grid of 1x1\n",
      "`plt.plot(X, C, color=\"blue\", linewidth=1.0, linestyle=\"-\")` | Plots cosine with a blue continuous line of width 1 (pixels)\n",
      "`plt.plot(X, S, color=\"green\", linewidth=1.0, linestyle=\"-\")` | Plots sine with a green continuous line of width 1 (pixels)\n",
      "`plt.xlim(-4.0, 4.0)` | Set x limits\n",
      "`plt.xticks(np.linspace(-4, 4, 9, endpoint=True))` | set x ticks\n",
      "`plt.ylim(-1.0, 1.0)` | Set y limits\n",
      "`plt.yticks(np.linspace(-1, 1, 5, endpoint=True))` | Set y ticks\n",
      "`plt.savefig(\"exercice_2.png\", dpi=72)` | Save figure using 72 dots per inch\n",
      "`plt.show()` | Show result on screen\n",
      "\n",
      "### Seaborn Basics\n",
      "\n",
      "We'll need to install seaborn first. You can do this with conda, a package installer for Anaconda. With this, conda might also update other packages. seaborn, once imported, takes over default matplotlib figures\n",
      "\n",
      "```sh\n",
      "cd ~/anaconda/bin\n",
      "conda install seaborn\n",
      "```\n",
      "\n",
      "Code | Description\n",
      "-----|------------\n",
      "`.set_style()`  | changes the current seaborn style. pass in parameters using a dictionary to update settings.\n",
      "`.axes_style()` | returns a dictionary of the current styles settings \n",
      "`.despine()`    | removes the top and right ticks on a chart"
     ]
    },
    {
     "cell_type": "heading",
     "level": 2,
     "metadata": {},
     "source": [
      "Lecture Notes"
     ]
    },
    {
     "cell_type": "markdown",
     "metadata": {},
     "source": [
      "### Exploring the Wine Data Set\n",
      "\n",
      "wine data set: https://archive.ics.uci.edu/ml/machine-learning-databases/wine/\n",
      "\n",
      "### Aggregation Practice\n",
      "\n",
      "### Visualisation Practice"
     ]
    },
    {
     "cell_type": "markdown",
     "metadata": {},
     "source": [
      "### Baseball Stats\n",
      "\n",
      "### Aggregation Practice\n",
      "\n",
      "### Visualisation Practice"
     ]
    },
    {
     "cell_type": "heading",
     "level": 2,
     "metadata": {},
     "source": [
      "On Your Own"
     ]
    },
    {
     "cell_type": "markdown",
     "metadata": {},
     "source": [
      "A very famous data set called Fisher's Iris data is included in sklearn. Import it with the following code into pandas (otherwise, it's a numpy ndarray)\n",
      "\n",
      "```python\n",
      "from sklearn import datasets\n",
      "iris = datasets.load_iris()\n",
      "iris_description = iris.DESCR\n",
      "irisdf = pd.DataFrame(iris.data, columns=iris.feature_names)\n",
      "irisdf['target'] = iris.target\n",
      "print iris_description\n",
      "```\n",
      "\n",
      "1. describe, aggregate, and visualise the iris data set. what's interesting about it?\n",
      "2. Which flowers are similar? Which seems to be in \"its own world?\"\n",
      "3. Write an .apply() function that would \"human learn\" the three flowers. It would be your best attempt to:\n",
      "    * split the flowers apart using the four columns\n",
      "    * assign either a 1, 2 or 3, similar to target\n",
      "    * test the performance of accuracy by measure how often your results match the original target vs the total count\n"
     ]
    },
    {
     "cell_type": "heading",
     "level": 2,
     "metadata": {},
     "source": [
      "Review, Next Steps, Reading"
     ]
    },
    {
     "cell_type": "code",
     "collapsed": false,
     "input": [],
     "language": "python",
     "metadata": {},
     "outputs": []
    }
   ],
   "metadata": {}
  }
 ]
}