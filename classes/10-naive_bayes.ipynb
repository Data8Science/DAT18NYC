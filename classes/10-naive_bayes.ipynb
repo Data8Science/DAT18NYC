{
 "metadata": {
  "name": "",
  "signature": "sha256:31e6bf9eb69c68e08a908d965d4dc3d70a92c36c2d33ad16d3ab0942b6d69a66"
 },
 "nbformat": 3,
 "nbformat_minor": 0,
 "worksheets": [
  {
   "cells": [
    {
     "cell_type": "code",
     "collapsed": false,
     "input": [
      "%%html\n",
      "<link rel=\"stylesheet\" href=\"static/hyrule.css\" type=\"text/css\">"
     ],
     "language": "python",
     "metadata": {},
     "outputs": [
      {
       "html": [
        "<link rel=\"stylesheet\" href=\"static/hyrule.css\" type=\"text/css\">"
       ],
       "metadata": {},
       "output_type": "display_data",
       "text": [
        "<IPython.core.display.HTML at 0x104396050>"
       ]
      }
     ],
     "prompt_number": 1
    },
    {
     "cell_type": "markdown",
     "metadata": {},
     "source": [
      "# Naive Bayes Classification"
     ]
    },
    {
     "cell_type": "heading",
     "level": 2,
     "metadata": {},
     "source": [
      "Objectives"
     ]
    },
    {
     "cell_type": "markdown",
     "metadata": {},
     "source": [
      "* Understanding the similarities and differences between Bayes Classifiers and Logistic Regression\n",
      "* Using a vectorizer to transform your text data\n",
      "* Learning the difference between a sparse and normal array\n",
      "* Identifying and interpreting traits of learners through comparison"
     ]
    },
    {
     "cell_type": "markdown",
     "metadata": {},
     "source": [
      "\n",
      "### A Classic Naive Bayes Example (80% of Doctors get this wrong):\n",
      "1% of women at age forty who participate in routine screening have breast cancer.  80% of women with breast cancer will get positive mammographies.  9.6% of women without breast cancer will also get positive mammographies.  A woman in this age group had a positive mammography in a routine screening.  \n",
      "\n",
      "What is the probability that she actually has breast cancer?\n",
      "\n",
      "> Take a moment to write out the answer\n",
      "\n",
      "<!--\n",
      "* Prior: 1% of women at age forty have breast cancer.\n",
      "* Posterior: Probability woman has breast cancer\n",
      "-->"
     ]
    },
    {
     "cell_type": "heading",
     "level": 2,
     "metadata": {},
     "source": [
      "Class Notes"
     ]
    },
    {
     "cell_type": "markdown",
     "metadata": {},
     "source": [
      "### What's the importance of the Naive Bayes Equation -- what do we need to know?\n",
      "\n",
      "#### Why Naive?\n",
      "It assumes all inputs (categories, predictors) are independent: In the case of text: its blind to word context and meaning: \n",
      "\n",
      "\n",
      "#### Naivete helps because negligible information is required\n",
      "Simply word counting and that's it -- faster testing and very simple construction on ANY text.  Naivete doesn't hurt because correctness is based on classification, not prediction.\n",
      "\n",
      "#### Good Predictor, (possibly) Bad Estimator\n",
      "NB chooses among possible categories to find the one that is the greatest.  The associated probability assigned is not necessarily accurate.  For example -- it might predict an email is Spam at 80%, but the true value might be 95% -- this doesn't matter, since its just choosing the category, anything over 50% will give it a perfect score. So while good estimation means good prediction,  good prediction doesn't necessarily mean good estimation.\n",
      "\n",
      "#### Bayes Theorem is Easily Derivable\n",
      "One simple way is through this Venn diagram via [Oscar Bonilla](http://oscarbonilla.com/2009/05/visualizing-bayes-theorem/).\n",
      "![](http://note.io/1nf77lD). \n",
      "\n",
      "These two steps, clear from the diagram above, can do it:\n",
      "      \n",
      "$P(AB) = \\dfrac{|AB|}{|U|}$\n",
      "\n",
      "$P(A|B) = \\dfrac{|AB|}{|B|}$\n",
      "\n",
      "       \n",
      "We then do some substitution...  \n",
      "\n",
      "$P(B|A) = \\dfrac{P(AB)P(B)}{P(A)}$\n",
      "\n",
      "$P(B|A) = \\dfrac{P(A|B)P(B)}{P(B)}$\n",
      "\n",
      "Which leaves us with a formula that will make more sense:\n",
      "\n",
      "$P(y|X_{n}) = \\dfrac{P(y)P(X_{n}|y)}{P(X_{n})}$"
     ]
    },
    {
     "cell_type": "markdown",
     "metadata": {},
     "source": [
      "### What's the difference between Multinomial and Bernoulli Naive Bayes?\n",
      "   * Try Bernoulli when your dictionary of words and document length is small.\n",
      "   * With Bernoulli, you may add in additional non-word features easily\n",
      "   * Multinomial usually performs better, takes into account frequency vs. presence\n",
      "   * Consider the probability for the prior of the term \"the\" -- Bernoulli: 100%; Multinomial 5%"
     ]
    },
    {
     "cell_type": "markdown",
     "metadata": {},
     "source": [
      "Multinomial vs. Bernoulli:\n",
      "![](http://note.io/1ftU7X6)"
     ]
    },
    {
     "cell_type": "markdown",
     "metadata": {},
     "source": [
      "### A great explanation of Bayes Classification\n",
      "*from [Mathias Brandewinder](http://clear-lines.com/blog/post/Naive-Bayes-Classification.aspx)*\n",
      "\n",
      "The canonical application of Bayes na\u00efve classification is in text classification, where the goal is to identify to which pre-determined category a piece of text belongs to  \u2013 for instance, is this email I just received spam, or ham (\u201cvaluable\u201d email)?\n",
      "\n",
      "The underlying idea is to use individual words present in the text as indications for what category it is most likely to belong to, using Bayes Theorem, named after the cheerful-looking Reverend Bayes.\n",
      "\n",
      "Imagine that you received an email containing the words \u201cNigeria\u201d, \u201cPrince\u201d, \u201cDiamonds\u201d and \u201cMoney\u201d. It is very likely that if you look into your spam folder, you\u2019ll find quite a few emails containing these words, whereas, unless you are in the business of importing diamonds from Nigeria and have some aristocratic family, your \u201cnormal\u201d emails would rarely contain these words. They have a much higher frequency within the category \u201cSpam\u201d than within the Ham, which makes them a potential flag for undesired business ventures.\n",
      "\n",
      "On the other hand, let\u2019s assume that you are a lucky person, and that typically, what you receive is Ham, with the occasional Spam bit. If you took a random email in your inbox, it is then much more likely that it belongs to the Ham category.\n",
      "\n",
      "Bayes\u2019 Theorem combines these two pieces of information together, to determine the probability that a particular email belongs to the \u201cSpam\u201d category, if it contains the word \u201cNigeria\u201d:\n",
      "\n",
      "$P(is Spam|contains Nigeria) = \\dfrac{P(contains Nigeria|is Spam) P(is Spam)}{P(contains Nigeria)}$\n",
      "\n",
      "In other words, 2 factors should be taken into account when deciding whether an email containing \u201cNigeria\u201d is spam: how over-represented is that word in Spam, and how likely is it that any email is spammy in the first place?\n",
      "\n",
      "The algorithm is named \u201cNa\u00efve\u201d, because it makes a simplifying assumption about the text, which turns out to be very convenient for computations purposes, namely that each word appears with a frequency which doesn\u2019t depend on other words. This is an unlikely assumption (the word \u201cDiamond\u201d is much more likely to be present in an email containing \u201cNigeria\u201d than in your typical family-members discussion email).\n",
      "\n",
      "We\u2019ll leave it at that on the concepts \u2013  I\u2019ll refer the reader who want to dig deeper to the book, or to this explanation of text classification with Na\u00efve Bayes.\n"
     ]
    },
    {
     "cell_type": "heading",
     "level": 2,
     "metadata": {},
     "source": [
      "Data Problem: Predicting Moving Ratings Given Text Reviews"
     ]
    },
    {
     "cell_type": "code",
     "collapsed": false,
     "input": [
      "%matplotlib inline\n",
      "\n",
      "import pandas as pd\n",
      "import matplotlib.pyplot as plt\n",
      "import seaborn\n",
      "from sklearn import naive_bayes\n",
      "\n",
      "pd.set_option('display.width', 500)\n",
      "pd.set_option('display.max_columns', 30)\n",
      "\n",
      "critics = pd.read_csv('../data/rt_critics.csv')"
     ],
     "language": "python",
     "metadata": {},
     "outputs": [],
     "prompt_number": 3
    },
    {
     "cell_type": "markdown",
     "metadata": {},
     "source": [
      "Note that Kaggle was running a [competition](https://www.kaggle.com/c/sentiment-analysis-on-movie-reviews/data) on accurately rating movies using this dataset.<br />\n",
      "Kaggle's another great location for random data problems, though they tend to be more focused on machine learning."
     ]
    },
    {
     "cell_type": "markdown",
     "metadata": {},
     "source": [
      "### Vectorizing with SK-Learn"
     ]
    },
    {
     "cell_type": "code",
     "collapsed": false,
     "input": [
      "from sklearn.feature_extraction.text import CountVectorizer\n",
      "\n",
      "text = ['Math is great', 'Math is really great', 'Exciting exciting Math']\n",
      "\n",
      "CountVectorizer?\n",
      "\n",
      "# Like the learners in sklearn, CountVectorizer is a class; so `vectorizer` below represents an instance of that object.\n",
      "vectorizer = CountVectorizer(ngram_range=(1,2))\n",
      "\n",
      "# call `fit` to build the vocabulary\n",
      "vectorizer.fit(text)\n",
      "\n",
      "# then, use `get_feature_names` to return the tokens\n",
      "print vectorizer.get_feature_names()\n",
      "\n",
      "# finally, call `transform` to convert text to a bag of words\n",
      "x = vectorizer.transform(text)"
     ],
     "language": "python",
     "metadata": {},
     "outputs": [
      {
       "output_type": "stream",
       "stream": "stdout",
       "text": [
        "[u'exciting', u'exciting exciting', u'exciting math', u'great', u'is', u'is great', u'is really', u'math', u'math is', u'really', u'really great']\n"
       ]
      }
     ],
     "prompt_number": 10
    },
    {
     "cell_type": "markdown",
     "metadata": {},
     "source": [
      "### Comparing a Sparse Matrix and Normal Matrix\n",
      "\n",
      "Vectorizers by default return back a sparse matrix. This is primarily because, as we'd expect, the majority of features will be 0, and at that point, it's more memory efficient to store the entry relationship and value. Pay attention to what we remember about matrix logic (how we refer to an entry) and how the toarray() function returns back the matrix we'd expect:"
     ]
    },
    {
     "cell_type": "code",
     "collapsed": false,
     "input": [
      "print 'Sparse Matrix'\n",
      "print x # A compressed version; the \"sparse\" matrix.\n",
      "print type(x) # type is from scipy, a library we've spoken very little of, but is pretty fantastic.\n",
      "print\n",
      "print 'Matrix'\n",
      "x_back = x.toarray()\n",
      "print x_back"
     ],
     "language": "python",
     "metadata": {},
     "outputs": [
      {
       "output_type": "stream",
       "stream": "stdout",
       "text": [
        "Sparse Matrix\n",
        "  (0, 3)\t1\n",
        "  (0, 4)\t1\n",
        "  (0, 5)\t1\n",
        "  (0, 7)\t1\n",
        "  (0, 8)\t1\n",
        "  (1, 3)\t1\n",
        "  (1, 4)\t1\n",
        "  (1, 6)\t1\n",
        "  (1, 7)\t1\n",
        "  (1, 8)\t1\n",
        "  (1, 9)\t1\n",
        "  (1, 10)\t1\n",
        "  (2, 0)\t2\n",
        "  (2, 1)\t1\n",
        "  (2, 2)\t1\n",
        "  (2, 7)\t1\n",
        "<class 'scipy.sparse.csr.csr_matrix'>\n",
        "\n",
        "Matrix\n",
        "[[0 0 0 1 1 1 0 1 1 0 0]\n",
        " [0 0 0 1 1 0 1 1 1 1 1]\n",
        " [2 1 1 0 0 0 0 1 0 0 0]]\n"
       ]
      }
     ],
     "prompt_number": 13
    },
    {
     "cell_type": "markdown",
     "metadata": {},
     "source": [
      "If we wanted the extra overhead, we could use the feature names as columns to a dataframe:"
     ]
    },
    {
     "cell_type": "code",
     "collapsed": false,
     "input": [
      "pd.DataFrame(x_back, columns=vectorizer.get_feature_names())"
     ],
     "language": "python",
     "metadata": {},
     "outputs": [
      {
       "html": [
        "<div style=\"max-height:1000px;max-width:1500px;overflow:auto;\">\n",
        "<table border=\"1\" class=\"dataframe\">\n",
        "  <thead>\n",
        "    <tr style=\"text-align: right;\">\n",
        "      <th></th>\n",
        "      <th>exciting</th>\n",
        "      <th>exciting exciting</th>\n",
        "      <th>exciting math</th>\n",
        "      <th>great</th>\n",
        "      <th>is</th>\n",
        "      <th>is great</th>\n",
        "      <th>is really</th>\n",
        "      <th>math</th>\n",
        "      <th>math is</th>\n",
        "      <th>really</th>\n",
        "      <th>really great</th>\n",
        "    </tr>\n",
        "  </thead>\n",
        "  <tbody>\n",
        "    <tr>\n",
        "      <th>0</th>\n",
        "      <td> 0</td>\n",
        "      <td> 0</td>\n",
        "      <td> 0</td>\n",
        "      <td> 1</td>\n",
        "      <td> 1</td>\n",
        "      <td> 1</td>\n",
        "      <td> 0</td>\n",
        "      <td> 1</td>\n",
        "      <td> 1</td>\n",
        "      <td> 0</td>\n",
        "      <td> 0</td>\n",
        "    </tr>\n",
        "    <tr>\n",
        "      <th>1</th>\n",
        "      <td> 0</td>\n",
        "      <td> 0</td>\n",
        "      <td> 0</td>\n",
        "      <td> 1</td>\n",
        "      <td> 1</td>\n",
        "      <td> 0</td>\n",
        "      <td> 1</td>\n",
        "      <td> 1</td>\n",
        "      <td> 1</td>\n",
        "      <td> 1</td>\n",
        "      <td> 1</td>\n",
        "    </tr>\n",
        "    <tr>\n",
        "      <th>2</th>\n",
        "      <td> 2</td>\n",
        "      <td> 1</td>\n",
        "      <td> 1</td>\n",
        "      <td> 0</td>\n",
        "      <td> 0</td>\n",
        "      <td> 0</td>\n",
        "      <td> 0</td>\n",
        "      <td> 1</td>\n",
        "      <td> 0</td>\n",
        "      <td> 0</td>\n",
        "      <td> 0</td>\n",
        "    </tr>\n",
        "  </tbody>\n",
        "</table>\n",
        "</div>"
       ],
       "metadata": {},
       "output_type": "pyout",
       "prompt_number": 15,
       "text": [
        "   exciting  exciting exciting  exciting math  great  is  is great  is really  math  math is  really  really great\n",
        "0         0                  0              0      1   1         1          0     1        1       0             0\n",
        "1         0                  0              0      1   1         0          1     1        1       1             1\n",
        "2         2                  1              1      0   0         0          0     1        0       0             0"
       ]
      }
     ],
     "prompt_number": 15
    },
    {
     "cell_type": "markdown",
     "metadata": {},
     "source": [
      "## Preparing our Features $X$ and Target $y$ for Training"
     ]
    },
    {
     "cell_type": "markdown",
     "metadata": {},
     "source": [
      "* $X$ is a `(nreview, nwords)` array. Each row corresponds to a bag-of-words representation for a single review. This will be the *input* to the model.\n",
      "* $y$ is a `nreview`-element 1/0 array, encoding whether a review is Fresh (1) or Rotten (0). This is the desired *output* "
     ]
    },
    {
     "cell_type": "code",
     "collapsed": false,
     "input": [
      "print critics.quote[2]"
     ],
     "language": "python",
     "metadata": {},
     "outputs": [
      {
       "output_type": "stream",
       "stream": "stdout",
       "text": [
        "A winning animated feature that has something for everyone on the age spectrum.\n"
       ]
      }
     ],
     "prompt_number": 16
    },
    {
     "cell_type": "markdown",
     "metadata": {},
     "source": [
      "Create a vector where each row is bag-of-words for a single quote vectorizer is now going to forget the original feature set.\n",
      "What types of ngrams should we be getting given the settings we used when creating the vectorizer instance?\n",
      "\n",
      "What's the difference between fit and fit_transform?"
     ]
    },
    {
     "cell_type": "code",
     "collapsed": false,
     "input": [
      "rotten_vectorizer = vectorizer.fit(critics.quote)\n",
      "x = vectorizer.fit_transform(critics.quote)"
     ],
     "language": "python",
     "metadata": {},
     "outputs": [],
     "prompt_number": 20
    },
    {
     "cell_type": "code",
     "collapsed": false,
     "input": [
      "# Create an array where each element encodes whether the array is Fresh or Rotten\n",
      "y = (critics.fresh == 'fresh').values.astype(int)"
     ],
     "language": "python",
     "metadata": {},
     "outputs": [],
     "prompt_number": 22
    },
    {
     "cell_type": "markdown",
     "metadata": {},
     "source": [
      "### Creating the Classifier"
     ]
    },
    {
     "cell_type": "markdown",
     "metadata": {},
     "source": [
      "### Basic Accuracy"
     ]
    },
    {
     "cell_type": "markdown",
     "metadata": {},
     "source": [
      "We've talked in class before about how accuracy can be a very simple measure to evaluate a classifier model performance. Below, we have a function that evaluates the accuracy of a test train split."
     ]
    },
    {
     "cell_type": "code",
     "collapsed": false,
     "input": [
      "def train_and_measure(classifier, x, y):\n",
      "    from sklearn import cross_validation\n",
      "    \"\"\"\n",
      "    Function accepts a classifer from sklearn and computes the accuracy measure for a random train and test split\n",
      "    classifier: an sklearn class\n",
      "    x         : a matrix of features\n",
      "    y         : a vector of targets\n",
      "    \"\"\"\n",
      "    xtrain, xtest, ytrain, ytest = cross_validation.train_test_split(x, y, test_size=0.2, random_state=1234)\n",
      "    clf = classifier.fit(xtrain, ytrain)\n",
      "\n",
      "    #Print the accuracy on the test and training dataset\n",
      "    training_accuracy = clf.score(xtrain, ytrain)\n",
      "    test_accuracy = clf.score(xtest, ytest)\n",
      "    print classifier\n",
      "    print \"Accuracy on training data: %0.2f\" % (training_accuracy)\n",
      "    print \"Accuracy on test data:     %0.2f\" % (test_accuracy)\n",
      "    \n",
      "train_and_measure(naive_bayes.MultinomialNB(), x, y)\n",
      "\n",
      "x_ones = (x > 1) # recall that a bernoulli interpretation will only work with 1s and 0s, or binary data.\n",
      "train_and_measure(naive_bayes.BernoulliNB(), x_ones, y)\n",
      "\n",
      "# and for the heck of it:\n",
      "\n",
      "from sklearn import linear_model\n",
      "train_and_measure(linear_model.LogisticRegression(), x, y)"
     ],
     "language": "python",
     "metadata": {},
     "outputs": [
      {
       "output_type": "stream",
       "stream": "stdout",
       "text": [
        "MultinomialNB(alpha=1.0, class_prior=None, fit_prior=True)\n",
        "Accuracy on training data: 0.99\n",
        "Accuracy on test data:     0.76\n",
        "BernoulliNB(alpha=1.0, binarize=0.0, class_prior=None, fit_prior=True)"
       ]
      },
      {
       "output_type": "stream",
       "stream": "stdout",
       "text": [
        "\n",
        "Accuracy on training data: 0.62\n",
        "Accuracy on test data:     0.59\n",
        "LogisticRegression(C=1.0, class_weight=None, dual=False, fit_intercept=True,\n",
        "          intercept_scaling=1, penalty='l2', random_state=None, tol=0.0001)"
       ]
      },
      {
       "output_type": "stream",
       "stream": "stdout",
       "text": [
        "\n",
        "Accuracy on training data: 1.00\n",
        "Accuracy on test data:     0.75\n"
       ]
      }
     ],
     "prompt_number": 36
    },
    {
     "cell_type": "markdown",
     "metadata": {},
     "source": [
      "(Look above\u2013it's our dear friend alpha!)"
     ]
    },
    {
     "cell_type": "markdown",
     "metadata": {},
     "source": [
      "### Your Turn: Writing a function that returns back the average and standard deviation of a k-fold cross validation\n",
      "\n",
      "We want a function that should do a very similar process as above, but now, to use k fold cross validation, and to return back two values: the mean and standard deviation accuracy from the k-fold train and test.\n",
      "\n",
      "Helper code below, use as you need. Steps to take:\n",
      "\n",
      "1. What are the arguments required in the function? What should be customizable?\n",
      "2. What code should never change?\n",
      "3. What should the return look like?\n",
      "\n",
      "After: Evaluate which model seems to do it's best on the set."
     ]
    },
    {
     "cell_type": "code",
     "collapsed": false,
     "input": [
      "import numpy as np\n",
      "import seaborn as sns\n",
      "from sklearn import cross_validation\n",
      "kfold = cross_validation.KFold(n=x_ones.shape[0], n_folds=5, shuffle=True, random_state=1234)\n",
      "\n",
      "train_acc = []\n",
      "test_acc = []\n",
      "for train_index, test_index in kfold:\n",
      "    clf = naive_bayes.MultinomialNB().fit(x[train_index], y[train_index])\n",
      "    train_acc.append(clf.score(x[train_index], y[train_index]))\n",
      "    test_acc.append(clf.score(x[test_index], y[test_index]))\n",
      "\n",
      "print np.array(test_acc).mean()\n",
      "print np.array(test_acc).std()\n",
      "\n",
      "plt.figure()\n",
      "sns.kdeplot(np.random.normal(loc=np.array(test_acc).mean(), scale=np.array(test_acc).std(), size=10000), shade=True)\n"
     ],
     "language": "python",
     "metadata": {},
     "outputs": [
      {
       "output_type": "stream",
       "stream": "stdout",
       "text": [
        "0.782121819222\n",
        "0.0102653931697\n"
       ]
      },
      {
       "metadata": {},
       "output_type": "pyout",
       "prompt_number": 60,
       "text": [
        "<matplotlib.axes._subplots.AxesSubplot at 0x10dd4e410>"
       ]
      },
      {
       "metadata": {},
       "output_type": "display_data",
       "png": "[encoded data removed]",
       "text": [
        "<matplotlib.figure.Figure at 0x10dd4e110>"
       ]
      }
     ],
     "prompt_number": 60
    },
    {
     "cell_type": "markdown",
     "metadata": {},
     "source": [
      "### How do we evaluate the right K to use in K fold?\n",
      "\n",
      "It's very common to default to a typical value of K, but let's evaluate, for a minute, what happens to the accuracy of our training and test sets as K increases:"
     ]
    },
    {
     "cell_type": "code",
     "collapsed": false,
     "input": [
      "k_train_acc = []\n",
      "k_test_acc = []\n",
      "for i in range(2, 20):\n",
      "    kfold = cross_validation.KFold(n=x_ones.shape[0], n_folds=i, shuffle=True, random_state=1234)\n",
      "    test_acc, train_acc = [], []\n",
      "    for train_index, test_index in kfold:\n",
      "        clf = naive_bayes.MultinomialNB().fit(x[train_index], y[train_index])\n",
      "        train_acc.append(clf.score(x[train_index], y[train_index]))\n",
      "        test_acc.append(clf.score(x[test_index], y[test_index]))\n",
      "    k_train_acc.append(np.array(train_acc).mean())\n",
      "    k_test_acc.append(np.array(test_acc).mean())\n",
      "\n",
      "plt.figure()\n",
      "plt.plot(range(2, 20), k_train_acc)\n",
      "plt.plot(range(2, 20), k_test_acc)\n"
     ],
     "language": "python",
     "metadata": {},
     "outputs": [
      {
       "metadata": {},
       "output_type": "pyout",
       "prompt_number": 72,
       "text": [
        "[<matplotlib.lines.Line2D at 0x10cdcc910>]"
       ]
      },
      {
       "metadata": {},
       "output_type": "display_data",
       "png": "[encoded data removed]",
       "text": [
        "<matplotlib.figure.Figure at 0x10cf00e50>"
       ]
      }
     ],
     "prompt_number": 72
    },
    {
     "cell_type": "markdown",
     "metadata": {},
     "source": [
      "The above we call a fit chart. How does this change as we attempt to use other classifiers? (Keep in mind when switching to LogisticRegression how much _slower_ it will be compared to Bayes!)"
     ]
    },
    {
     "cell_type": "markdown",
     "metadata": {},
     "source": [
      "### Another Metrics: The Confusion Matrix"
     ]
    },
    {
     "cell_type": "markdown",
     "metadata": {},
     "source": [
      "wip"
     ]
    },
    {
     "cell_type": "code",
     "collapsed": false,
     "input": [
      "# Review errors\n",
      "bad_rotten = np.argsort(prob[Y == 0])[:5]\n",
      "bad_fresh = np.argsort(prob[Y == 1])[-5:]\n",
      "\n",
      "print \"Mis-predicted Rotten quotes\"\n",
      "print '---------------------------'\n",
      "for row in bad_rotten:\n",
      "    print critics[Y == 0].quote.irow(row)\n",
      "    print\n",
      "\n",
      "print \"Mis-predicted Fresh quotes\"\n",
      "print '--------------------------'\n",
      "for row in bad_fresh:\n",
      "    print critics[Y == 1].quote.irow(row)\n",
      "    print"
     ],
     "language": "python",
     "metadata": {},
     "outputs": [
      {
       "output_type": "stream",
       "stream": "stdout",
       "text": [
        "Mis-predicted Rotten quotes\n",
        "---------------------------\n",
        "Has no one else found it highly peculiar that damn near everybody's choice for the best movie of (let's say) the decade should be dedicated, inferentially but absolutely, to the proposition that Courage is Madness and Cowardice is Best?"
       ]
      },
      {
       "output_type": "stream",
       "stream": "stdout",
       "text": [
        "\n",
        "\n",
        "The performances are precise, the language is alive and well spoken and the setting is striking, but Vanya on 42nd Street still suffers rather heavily from the limitations of filmed theater.\n",
        "\n",
        "Lacking the surface glitz, attention-grabbing plot and star power of John Grisham's previous adaptations, Folley's film will also suffer due to comparisons with the similarly-themed and better Tim Robbins' Dead Man Walking, released last year.\n",
        "\n",
        "The fact that so much money was lavished on such a thick-headed project represents the height of fiscal ineptitude, but this is the kind of roller-coaster ride for which eager audiences will gladly check their brains at the turnstiles, so go figure.\n",
        "\n",
        "This is a film about deeply confused people that seems likely to put viewers in a state of deep confusion for most of its running time.\n",
        "\n",
        "Mis-predicted Fresh quotes\n",
        "--------------------------\n",
        "A good half-hour's worth of nonsense in the middle keeps Bad Boys from being little better than a break- even proposition.\n",
        "\n",
        "Though it's a good half hour too long, this overblown 1993 spin-off of the 60s TV show otherwise adds up to a pretty good suspense thriller.\n",
        "\n",
        "'Once Upon a Time...' now looks like an over-cooked mess of style, metaphor and reference.\n",
        "\n",
        "The movie's own payoff is compelling enough, but the project has a weightless feel that limits involvement. Better you give it an hour-and-a-half on video someday, surrounded by wine and snacks.\n",
        "\n",
        "There's too much talent and too strong a story to mess it up. There was potential for more here, but this incarnation is nothing to be ashamed of, and some of the actors answer the bell.\n",
        "\n"
       ]
      }
     ],
     "prompt_number": 214
    },
    {
     "cell_type": "code",
     "collapsed": false,
     "input": [
      "critics[critics['quote'].str.contains(\"audacious in its\")]"
     ],
     "language": "python",
     "metadata": {},
     "outputs": [
      {
       "html": [
        "<div style=\"max-height:1000px;max-width:1500px;overflow:auto;\">\n",
        "<table border=\"1\" class=\"dataframe\">\n",
        "  <thead>\n",
        "    <tr style=\"text-align: right;\">\n",
        "      <th></th>\n",
        "      <th>critic</th>\n",
        "      <th>fresh</th>\n",
        "      <th>imdb</th>\n",
        "      <th>publication</th>\n",
        "      <th>quote</th>\n",
        "      <th>review_date</th>\n",
        "      <th>rtid</th>\n",
        "      <th>title</th>\n",
        "    </tr>\n",
        "  </thead>\n",
        "  <tbody>\n",
        "    <tr>\n",
        "      <th>7658</th>\n",
        "      <td> Mick LaSalle</td>\n",
        "      <td> rotten</td>\n",
        "      <td> 386117</td>\n",
        "      <td> San Francisco Chronicle</td>\n",
        "      <td> Where the Wild Things Are is audacious in its ...</td>\n",
        "      <td> 2009-10-16</td>\n",
        "      <td> 770671948</td>\n",
        "      <td> Where the Wild Things Are</td>\n",
        "    </tr>\n",
        "  </tbody>\n",
        "</table>\n",
        "</div>"
       ],
       "metadata": {},
       "output_type": "pyout",
       "prompt_number": 131,
       "text": [
        "            critic   fresh    imdb              publication                                              quote review_date       rtid                      title\n",
        "7658  Mick LaSalle  rotten  386117  San Francisco Chronicle  Where the Wild Things Are is audacious in its ...  2009-10-16  770671948  Where the Wild Things Are"
       ]
      }
     ],
     "prompt_number": 131
    },
    {
     "cell_type": "code",
     "collapsed": false,
     "input": [
      "critics[critics['quote'].str.contains(\"own payoff is\")]"
     ],
     "language": "python",
     "metadata": {},
     "outputs": [
      {
       "html": [
        "<div style=\"max-height:1000px;max-width:1500px;overflow:auto;\">\n",
        "<table border=\"1\" class=\"dataframe\">\n",
        "  <thead>\n",
        "    <tr style=\"text-align: right;\">\n",
        "      <th></th>\n",
        "      <th>critic</th>\n",
        "      <th>fresh</th>\n",
        "      <th>imdb</th>\n",
        "      <th>publication</th>\n",
        "      <th>quote</th>\n",
        "      <th>review_date</th>\n",
        "      <th>rtid</th>\n",
        "      <th>title</th>\n",
        "    </tr>\n",
        "  </thead>\n",
        "  <tbody>\n",
        "    <tr>\n",
        "      <th>5965</th>\n",
        "      <td> Mike Clark</td>\n",
        "      <td> fresh</td>\n",
        "      <td> 115710</td>\n",
        "      <td> USA Today</td>\n",
        "      <td> The movie's own payoff is compelling enough, b...</td>\n",
        "      <td> 2000-01-01</td>\n",
        "      <td> 364525542</td>\n",
        "      <td> Blood and Wine</td>\n",
        "    </tr>\n",
        "  </tbody>\n",
        "</table>\n",
        "</div>"
       ],
       "metadata": {},
       "output_type": "pyout",
       "prompt_number": 132,
       "text": [
        "          critic  fresh    imdb publication                                              quote review_date       rtid           title\n",
        "5965  Mike Clark  fresh  115710   USA Today  The movie's own payoff is compelling enough, b...  2000-01-01  364525542  Blood and Wine"
       ]
      }
     ],
     "prompt_number": 132
    },
    {
     "cell_type": "markdown",
     "metadata": {},
     "source": [
      "### Your Turn\n",
      "\n",
      "Given the text and classifier above, there is still **plenty** we can do to work through data cleanup and improve the model.\n",
      "\n",
      "1. Consider feature selection here: we haven't dropped a single feature! How could we evaluate this process? (check out `f_classif`)\n",
      "2. Last class we experiments with nltk and the part of speach tagger. Consider replacing words with parts of speach instead (using the default tagger), or other text processing tools (remove the stopwords... or just keep the stopwords!)\n",
      "3. What else is in the quote that we could identify and replace more easily?\n",
      "\n",
      "\n",
      "### More interest in sentiment?\n",
      "You can use the \"STS-Gold Sentiment Corpus\".  [CSV is here.](https://gist.githubusercontent.com/datadave/47ed59dd8733b2063dc6/raw/583615c70a1167fcd72899b2d2830493f1c616e6/sts_gold_tweet.csv)\n"
     ]
    },
    {
     "cell_type": "heading",
     "level": 2,
     "metadata": {},
     "source": [
      "Review/Next Steps"
     ]
    },
    {
     "cell_type": "markdown",
     "metadata": {},
     "source": [
      "#### Naive Bayes\n",
      "* [SKL Naive Bayes Documentation](http://scikit-learn.org/stable/modules/naive_bayes.html)\n",
      "* [Stanford Naive Bayes Math](http://nlp.stanford.edu/IR-book/pdf/13bayes.pdf)"
     ]
    }
   ],
   "metadata": {}
  }
 ]
}