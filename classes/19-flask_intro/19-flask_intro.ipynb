{
 "cells": [
  {
   "cell_type": "markdown",
   "metadata": {},
   "source": [
    "<img src='http://flask.pocoo.org/static/logo/flask.png' style='width: 50%' />"
   ]
  },
  {
   "cell_type": "markdown",
   "metadata": {},
   "source": [
    "## Objective\n",
    "We will be developing a classifier to predict an artist based on song lyrics. The training data comes from the [Million Song Dataset](http://labrosa.ee.columbia.edu/millionsong/) and has been limited to knowledge of The Beatles, The Rolling Stones, and Lady Gaga.\n",
    "\n",
    "After this lesson, you will have created a web application that lets users input lyrics and get back one of those three artists. In the process, you will have created a reusable classifier."
   ]
  },
  {
   "cell_type": "markdown",
   "metadata": {},
   "source": [
    "## New Terminology\n",
    "#### General Web Terms:\n",
    "\n",
    "* [Cookies](http://en.wikipedia.org/wiki/HTTP_cookie)\n",
    "* [Sessions](http://stackoverflow.com/questions/3804209/what-are-sessions-how-do-they-work)\n",
    "* [Cascading Style Sheets](http://www.w3schools.com/css/css_intro.asp)\n",
    "\n",
    "#### Flask Terms:\n",
    "\n",
    "* Templates: [Jinja2](http://jinja.pocoo.org/)\n",
    "* Contexts\n",
    "\t* [Application](http://flask.pocoo.org/docs/appcontext/)\n",
    "\t* [Request](http://flask.pocoo.org/docs/reqcontext/)\n",
    "* [Message Flashing](http://flask.pocoo.org/docs/patterns/flashing/) (Not the same as Adobe Flash!)\n",
    "\n",
    "#### New Python Terms:\n",
    "\n",
    "* [Pickle](https://wiki.python.org/moin/UsingPickle)\n",
    "* [Decorators](http://www.artima.com/weblogs/viewpost.jsp?thread=240808)"
   ]
  },
  {
   "cell_type": "markdown",
   "metadata": {},
   "source": [
    "## Warmup: understanding decorators\n",
    "\n",
    "Consider the following code snippets and explain what each snippit is doing:"
   ]
  },
  {
   "cell_type": "code",
   "execution_count": 1,
   "metadata": {
    "collapsed": false
   },
   "outputs": [
    {
     "data": {
      "text/plain": [
       "6"
      ]
     },
     "execution_count": 1,
     "metadata": {},
     "output_type": "execute_result"
    }
   ],
   "source": [
    "def add_one(x):\n",
    "    return x + 1\n",
    "    \n",
    "add_one(5)"
   ]
  },
  {
   "cell_type": "code",
   "execution_count": 2,
   "metadata": {
    "collapsed": false
   },
   "outputs": [
    {
     "data": {
      "text/plain": [
       "4"
      ]
     },
     "execution_count": 2,
     "metadata": {},
     "output_type": "execute_result"
    }
   ],
   "source": [
    "def outer(x):\n",
    "    def inner():\n",
    "        return x + 1\n",
    "    return inner\n",
    "\n",
    "print_three_add_one = outer(3)\n",
    "print_three_add_one()"
   ]
  },
  {
   "cell_type": "code",
   "execution_count": 3,
   "metadata": {
    "collapsed": false
   },
   "outputs": [
    {
     "name": "stdout",
     "output_type": "stream",
     "text": [
      "101\n"
     ]
    }
   ],
   "source": [
    "def add_one_dec(func):\n",
    "    def add_one(x):\n",
    "        return func(x) + 1\n",
    "    return add_one\n",
    "\n",
    "@add_one_dec\n",
    "def poly(x):\n",
    "    return x**2\n",
    "\n",
    "print poly(10)\n"
   ]
  },
  {
   "cell_type": "markdown",
   "metadata": {},
   "source": [
    "Decorators are used in a variety of instances: we've even seen them \"used\" in our own code. What's this following code from and doing?"
   ]
  },
  {
   "cell_type": "code",
   "execution_count": 4,
   "metadata": {
    "collapsed": false
   },
   "outputs": [],
   "source": [
    "def deprecate(name, alternative, alt_name=None):\n",
    "    import warnings\n",
    "    alt_name = alt_name or alternative.__name__\n",
    "\n",
    "    def wrapper(*args, **kwargs):\n",
    "        warnings.warn(\"%s is deprecated. Use %s instead\" % (name, alt_name),\n",
    "                      FutureWarning)\n",
    "        return alternative(*args)\n",
    "    return wrapper\n"
   ]
  },
  {
   "cell_type": "markdown",
   "metadata": {},
   "source": [
    "## Explore the Project Folder Structure\n",
    "```sh\n",
    "$ unzip lyricsapp_skeleton.zip\n",
    "$ cd lyricsapp\n",
    "$ ls\n",
    "lyrics.csv      lyrics_classifier.py        lyricsapp.py         msd\n",
    "schema.sql      static                      templates\n",
    "```\n",
    "\n",
    "The `templates` and `static` directories for Flask. The `msd` directory contains helper Python routines to ensure input lyrics are stemmed the same way as in the Million Song Dataset."
   ]
  },
  {
   "cell_type": "markdown",
   "metadata": {},
   "source": [
    "## Create a Reusable Classifier\n",
    "Open lyrics_classifier.py. The skeleton has all of the definitions but most need to be populated.\n",
    "\n",
    "```python\n",
    "\"\"\"Lyrics classifier for Flask application\"\"\"\n",
    "\n",
    "# Our familiar imports\t\n",
    "import pandas as pd\n",
    "from sklearn.feature_extraction.text import CountVectorizer\n",
    "from sklearn.naive_bayes import MultinomialNB\n",
    "\n",
    "# A new import\n",
    "import pickle\n",
    "\n",
    "# Local imports for the Million Song Dataset stemming algorithm\n",
    "from msd.stem import transformLyrics\n",
    "\n",
    "class LyricsClf():\n",
    "    \"\"\"A MultinomialNB classifier for predicting artists from lyrics.\n",
    "    Offers train, save, and load routines for offline and startup\n",
    "    purposes. Offers predictArtist for online use.\n",
    "    \"\"\"\n",
    "    def __init__(self,picklefile=None):\n",
    "        \"\"\"Constructor that creates an empty artistLabels dictionary,\n",
    "        a CountVectorizer placeholder, and a classifier placeholder.\n",
    "        If a picklefile is specified, the returned object is instantiated\n",
    "        from a pickled version on disk.\n",
    "        \"\"\"\n",
    "    ...\n",
    "```\t\t"
   ]
  },
  {
   "cell_type": "markdown",
   "metadata": {},
   "source": [
    "## Test LyricsClf\n",
    "We will use our new class right from the Python interpreter. After showing that it works, we will pickle it for use with the web app."
   ]
  },
  {
   "cell_type": "code",
   "execution_count": 5,
   "metadata": {
    "collapsed": false
   },
   "outputs": [
    {
     "name": "stdout",
     "output_type": "stream",
     "text": [
      "The Beatles\n"
     ]
    }
   ],
   "source": [
    "from solution_lyricsapp.lyrics_classifier import LyricsClf\n",
    "lclf = LyricsClf()\n",
    "lclf.train('solution_lyricsapp/lyrics.csv')\n",
    "print lclf.predictArtist(\"i want to hold your hand\")\n",
    "lclf.save('classifier.p')"
   ]
  },
  {
   "cell_type": "markdown",
   "metadata": {},
   "source": [
    "## Review the Basic Web App Database Routines \n",
    "Some database code is already written for you. Take a look at `connect_db`, `get_db` and `init_db` within `lyricsapp.py`."
   ]
  },
  {
   "cell_type": "markdown",
   "metadata": {},
   "source": [
    "## Prepare the Database from the Schema\n",
    "Here is where we create a sqlite3 database file from our schema.\n",
    "\n",
    "```python\n",
    "from lyricsapp import init_db\n",
    "init_db()\n",
    "```\n",
    "\n",
    "You may wish to try this if you have the sqlite3 utility installed:\n",
    "\n",
    "```sh\n",
    "$ sqlite3 lyrics.db\n",
    "SQLite version 3.7.13 2012-07-17 17:46:21\n",
    "Enter \".help\" for instructions\n",
    "Enter SQL statements terminated with a \";\"\n",
    "sqlite> .tables\n",
    "predictions\n",
    "sqlite> PRAGMA table_info(predictions);\n",
    "0|id|integer|0||1\n",
    "1|lyrics|text|1||0\n",
    "2|artist|text|1||0\n",
    "sqlite> .quit\n",
    "```"
   ]
  },
  {
   "cell_type": "markdown",
   "metadata": {},
   "source": [
    "## First test of the App\n",
    "The application should load and present the interface, but the prediction form shouldn't do anything because the `/add` endpoint is incomplete.\n",
    "\n",
    "```sh\n",
    "$ python lyricsapp.py\n",
    " * Running on http://127.0.0.1:5000/\n",
    " * Restarting with reloader\n",
    "```"
   ]
  },
  {
   "cell_type": "markdown",
   "metadata": {},
   "source": [
    "## Build the Views\n",
    "Finish the functions `show_predictions()` and `add_prediction()` inside `lyricsapp.py`."
   ]
  },
  {
   "cell_type": "markdown",
   "metadata": {},
   "source": [
    "## Run the App!\n",
    "Run the application now and it should work:\n",
    "\n",
    "```sh\n",
    "$ python lyricsapp.py\n",
    " * Running on http://127.0.0.1:5000/\n",
    " * Restarting with reloader\n",
    "```"
   ]
  },
  {
   "cell_type": "markdown",
   "metadata": {},
   "source": [
    "## Lyric Cribsheet\n",
    "Use any of these to test predictions if you're short on ideas:\n",
    "\n",
    "\ti want your love and i want your revenge you and me could have a bad romance\n",
    "\n",
    "\tyellow submarine octopus penny lane hold your hand woke up got out of bed\n",
    "\n",
    "\tsweet virginia tumbling dice crossfire hurricane\n",
    "\n",
    "\tonce upon a time you dressed so fine threw the bums a dime in your prime didn't you\n",
    " \n",
    "\tonce upon a time you dressed so fine how does it feel to be on your own like a\n",
    "\n",
    "\tyo vip let's kick it ice ice baby stop collaborate and listen\n",
    "\t"
   ]
  },
  {
   "cell_type": "markdown",
   "metadata": {},
   "source": [
    "## Next Steps\n",
    "Consider these questions:\n",
    "\n",
    "* How would you add a login and logout feature to the application?\n",
    "* How would you normalize the database to avoid redundancy in the artists column?\n",
    "\t* Consider how this may conflict with the way we mapped artists to labels in the ``LyricsClf`` class "
   ]
  },
  {
   "cell_type": "markdown",
   "metadata": {},
   "source": [
    "## Additional Resources\n",
    "\n",
    "* This Flask application was borrowed heavily from the [Flaskr Tutorial](http://flask.pocoo.org/docs/tutorial/introduction/). \n",
    "* The [Flask Mega-Tutorial](http://blog.miguelgrinberg.com/post/the-flask-mega-tutorial-part-i-hello-world) is also fantastic, and much more in-depth if you are looking for greater challenges and experience.\n",
    "* A more detailed view on flask for data scientists can be viewed from the [Flask Mega Meta Tutorial for Data Scientists](http://www.datacommunitydc.org/blog/2014/02/flask-mega-meta-tutorial-data-scientists), which includes the links above, and several more.\n",
    "* [Heroku](https://devcenter.heroku.com/articles/getting-started-with-python-o) includes a handy tutorial on how to setup and deploy your Flask application on their platform."
   ]
  }
 ],
 "metadata": {
  "kernelspec": {
   "display_name": "Python 2",
   "language": "python",
   "name": "python2"
  },
  "language_info": {
   "codemirror_mode": {
    "name": "ipython",
    "version": 2
   },
   "file_extension": ".py",
   "mimetype": "text/x-python",
   "name": "python",
   "nbconvert_exporter": "python",
   "pygments_lexer": "ipython2",
   "version": "2.7.9"
  }
 },
 "nbformat": 4,
 "nbformat_minor": 0
}
