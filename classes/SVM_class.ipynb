{
 "cells": [
  {
   "cell_type": "markdown",
   "metadata": {},
   "source": [
    "  ###    Will add intro.. \n",
    "SUPPORT VECTOR MACHINES: \n",
    "\n",
    "1) DECISION BOUNDARIES\n",
    "2) WIDEST STREET APPROACH\n",
    "3) KERNEL FUNCTIONS\n"
   ]
  },
  {
   "cell_type": "markdown",
   "metadata": {},
   "source": [
    "## How would we split this dataset?  \n",
    "\n",
    "<img src='iris_split1.png'/>\n"
   ]
  },
  {
   "cell_type": "markdown",
   "metadata": {},
   "source": [
    "## And How would we split THIS dataset? \n",
    "\n",
    "<img src='iris_split2.png'/>"
   ]
  },
  {
   "cell_type": "markdown",
   "metadata": {},
   "source": [
    "Given Positive and Negative Examples ..  \n",
    "\n",
    "1) Draw a straight line \n",
    "   (Ok, but which straight line ? )\n",
    "   Using the 'widest street approach'\n",
    "\n"
   ]
  },
  {
   "cell_type": "markdown",
   "metadata": {},
   "source": [
    "$$\\vec{w}\\cdot\\vec{u}\\leq c$$\n",
    "or \n",
    "\n",
    "EQN #1) Our Decision Rule: \n",
    "If: \n",
    "$$\\vec{w}\\cdot\\vec{u} +b \\geq 0$$     (where c = -b)\n",
    "Then: positive sample\n",
    "\n",
    "\n",
    "But, we dont know which constant weight (b) to use, and we dont know which w to use either (there are many w's that we \n",
    "can use, because w can be of any length)\n",
    "\n",
    "\n",
    "EQN #2) For all x in the margins of our 'street':\n",
    "$${y}_{i}(\\vec{w}\\cdot\\vec{u}+b)-1=0$$ \n",
    "\n",
    "\n",
    "EQN #3)  Find our the width of our street:\n",
    " $$width =({x}_{+}-{x}_{-})\\cdot{{\\vec{w}\\above 1pt\\|w\\|}}$$\n",
    "\n",
    "EQN #4)  We need to maximize the following in order to get our widest street: \n",
    "\n",
    " $$MAX  {{2\\above 1pt\\|w\\|}}$$\n",
    " \n",
    " (ie) minimize the following: \n",
    "\n",
    " \n",
    "  $$   1/2{{\\|w\\|}^2}$$\n",
    "  \n",
    "  \n",
    "EQN #5)  If we want to find the maximum of a function (that has restraints), then we need to use a technique called: Lagrange Multipliers: \n",
    "\n",
    "  $$ L=  1/2{{\\|w\\|}^2} - \\sum \\alpha_i[(y_i(\\vec{w}\\cdot{x_i} +b)-1] $$\n",
    "  \n",
    "EQN #6)  Now taking partial derivative of above (with respect to w), we find that :\n",
    "\n",
    "  $$\\vec{w} = \\sum \\alpha_i(y_i\\cdot{x_i})$$\n",
    "  \n",
    "  And now we see that vector w is just a linear sum of our samples!\n",
    "\n",
    "  $$\\vec{w} = \\sum \\alpha_i(y_i\\cdot{x_i})$$\n",
    "\n",
    "And taking partial derivative of above (with respect to b) we have:\n",
    "\n",
    "  $$ \\sum \\alpha_i(y_i)=0$$\n",
    "  \n",
    " We discover that our optimization only depends on (what? )\n",
    " \n",
    "  $$ L= \\sum \\alpha_i -1/2\\sum\\sum\\alpha_i\\alpha_j(y_iy_j)(x_i\\cdot{x_j})$$\n",
    "  \n",
    "The Dot product of pairs of samples!\n",
    " \n",
    " And now we see that our Decision Rule depends only on our sample vectors and u (the unknown vector) \n",
    " \n",
    "  $$ \\sum\\alpha_iy_i(x_i\\cdot\\vec{u})$$\n",
    "  \n",
    " Again, our solutions have total dependence on the Dot Products.\n",
    " \n",
    " It still doesn't seem possible that we can find a solution for the dataset above, using just the above equations .. right ?   Let's see..  \n",
    "\n",
    "But first, a recap:"
   ]
  },
  {
   "cell_type": "markdown",
   "metadata": {},
   "source": [
    "###  All of the above in a Nutshell \n",
    "\n",
    "### 1) Confidence in making the right prediction: The functional margin\n",
    "\n",
    "for:\n",
    "$$y^{i}=1$$\n",
    "then for a large functional margin (greater confidence in correct prediction),we want: \n",
    "\n",
    " $$\\vec{w}\\cdot{x}^{i} +b >> 0$$ \n",
    " \n",
    " and $$y^{i}=-1$$\n",
    " we want : \n",
    " \n",
    " $$\\vec{w}\\cdot{x}^{i} +b << 0$$ \n",
    "  \n",
    "  We would like our functional margin to be as large as possible\n",
    "\n",
    "### 2) Margin\n",
    "\n",
    "Another intuition about choosing the best hyperplane is to choose one in which the distance from the training points is maximum  (formalized by the geometric margin:) \n",
    "\n",
    " $$\\gamma^{i} ={ \\hat\\gamma^{i}\\above 1pt\\|w\\|}$$\n",
    " \n",
    " We can see that this is our functional margin normalized\n",
    " \n",
    " \n",
    " ### In Summary: \n",
    " \n",
    "To realize these intuitions and get the best hyperplane, the optimization problem is : \n",
    "\n",
    "Choose  $$\\gamma,w,b$$\n",
    "so as to maximize the geometric margin\n",
    "subject to the condition that \n",
    "\n",
    " $$y^{i}(\\vec{w}\\cdot{x}^{i})+b > \\gamma$$\n",
    " \n",
    " and\n",
    " \n",
    " $$\\|w\\|=1$$"
   ]
  },
  {
   "cell_type": "markdown",
   "metadata": {},
   "source": [
    "#### And what were Support Vectors Again?\n",
    "\n",
    "SVMs find a decision boundary separating 2 classes that is spanned by a small # of training samples (called Support Vectors).  Support Vectors are the samples that lie closest to the other class, and thus are the most critical in defining our classes"
   ]
  },
  {
   "cell_type": "code",
   "execution_count": null,
   "metadata": {
    "collapsed": true
   },
   "outputs": [],
   "source": [
    "% pylab inline"
   ]
  },
  {
   "cell_type": "code",
   "execution_count": 94,
   "metadata": {
    "collapsed": true
   },
   "outputs": [],
   "source": [
    "import pandas as pd\n",
    "from sklearn import datasets, svm\n",
    "import seaborn as sns"
   ]
  },
  {
   "cell_type": "code",
   "execution_count": 103,
   "metadata": {
    "collapsed": true
   },
   "outputs": [],
   "source": [
    "plt.pcolormesh?"
   ]
  },
  {
   "cell_type": "code",
   "execution_count": 101,
   "metadata": {
    "collapsed": false
   },
   "outputs": [],
   "source": [
    "# In order gain intuition about how we are splitting our grid: we'll build the plot_estimator \n",
    "def plot_estimator(estimator,X,y):\n",
    "    estimator.fit(X,y)\n",
    "    x_min, x_max =X[:,0].min() -1, X[:,0].max() +.1\n",
    "    y_min, y_max =X[:,1].min() -1, X[:,1].max() +.1\n",
    "    xx, yy =np.meshgrid(np.linspace(x_min, x_max, 100),\n",
    "                        np.linspace(y_min, y_max, 100))\n",
    "                        \n",
    "    Z= estimator.predict(np.c_[xx.ravel(), yy.ravel()])\n",
    "                        \n",
    "    # Put the result into a color plot\n",
    "    Z=Z.reshape (xx.shape)\n",
    "    plt.figure()\n",
    "    plt.pcolormesh(xx,yy, Z, cmap=plt.cm.Paired)\n",
    "                        \n",
    "    # Lets plot our sample points\n",
    "    plt.scatter(X[:,0], X[:,1], c=y)"
   ]
  },
  {
   "cell_type": "code",
   "execution_count": 124,
   "metadata": {
    "collapsed": false
   },
   "outputs": [
    {
     "data": {
      "text/plain": [
       "<matplotlib.collections.PathCollection at 0x1113eae10>"
      ]
     },
     "execution_count": 124,
     "metadata": {},
     "output_type": "execute_result"
    },
    {
     "data": {
      "image/png": "[encoded data removed]",
      "text/plain": [
       "<matplotlib.figure.Figure at 0x112086bd0>"
      ]
     },
     "metadata": {},
     "output_type": "display_data"
    }
   ],
   "source": [
    "# Visualizing our Support Vectors: \n",
    "iris=datasets.load_iris()\n",
    "X=iris.data\n",
    "y=iris.target\n",
    "\n",
    "X=X[y !=0,:2]  # we only take the second 2 classes, first two features\n",
    "y = iris.target[y!=0]\n",
    "\n",
    "# The number of support vectors can \n",
    "# How do you think this model behaves in regards to outliers ?\n",
    "\n",
    "# \n",
    "svc = svm.SVC(kernel='linear', C=1).fit(X, y)\n",
    "plot_estimator(svc,X,y)\n",
    "plt.scatter(svc.support_vectors_[:,0],svc.support_vectors_[:,1])"
   ]
  },
  {
   "cell_type": "markdown",
   "metadata": {},
   "source": [
    "Try experimenting with different values of C,  what differences do you see?   Plot 2 versions of the above side by side using very different C values.. \n",
    "\n",
    "* Note : C control the 'width' of our street !   (our margins..)"
   ]
  },
  {
   "cell_type": "markdown",
   "metadata": {},
   "source": [
    "What really put SVMs on the map, is that we can choose from a wide range  of decision boundaries\n",
    "\n",
    "We choose these decision boundaries by choosing a SVM kernel: \n",
    "The Kernel control how our model is 'sampled' in order to build a decision boundary \n",
    "\n",
    "1) 'linear' :  Linear decision boundary\n",
    "2) 'poly' : Polynomial decicion boundary (adjust the order via 'order' argument\n",
    "3) 'rbf': Radial Basis Function decision boundary : (Inserts Gaussian kernel at each support vector -- and builds decision boundary from here).\n",
    "We can adjust this Gaussian kernel via the gamma feature "
   ]
  },
  {
   "cell_type": "markdown",
   "metadata": {},
   "source": [
    "On Your Own\n",
    "    \n",
    "- Given the (3) of types of kernels above, and our previous model above, build & plot 3 new models.  Which do you think is ideal for our data ? \n",
    "\n",
    "- Experiment with each of the different features in the models ( adjust order (for poly) and adjust gamma for (rbf).   What happens when we use a very large value for gamma ? "
   ]
  },
  {
   "cell_type": "code",
   "execution_count": 141,
   "metadata": {
    "collapsed": false
   },
   "outputs": [
    {
     "data": {
      "text/plain": [
       "GridSearchCV(cv=None,\n",
       "       estimator=SVC(C=1.0, cache_size=200, class_weight=None, coef0=0.0, degree=3, gamma=0.0,\n",
       "  kernel='linear', max_iter=-1, probability=False, random_state=None,\n",
       "  shrinking=True, tol=0.001, verbose=False),\n",
       "       fit_params={}, iid=True, loss_func=None, n_jobs=1,\n",
       "       param_grid={'C': array([  1.00000e-03,   4.64159e-03,   2.15443e-02,   1.00000e-01,\n",
       "         4.64159e-01,   2.15443e+00,   1.00000e+01,   4.64159e+01,\n",
       "         2.15443e+02,   1.00000e+03])},\n",
       "       pre_dispatch='2*n_jobs', refit=True, score_func=None, scoring=None,\n",
       "       verbose=0)"
      ]
     },
     "execution_count": 141,
     "metadata": {},
     "output_type": "execute_result"
    }
   ],
   "source": [
    "from sklearn.svm import SVC\n",
    "from sklearn.grid_search import GridSearchCV\n",
    "svc=SVC(kernel='linear')\n",
    "grid=GridSearchCV(svc,param_grid=dict(C=np.logspace(-3,3, 10)))\n",
    "grid.fit(X,y)"
   ]
  },
  {
   "cell_type": "code",
   "execution_count": 142,
   "metadata": {
    "collapsed": false
   },
   "outputs": [
    {
     "name": "stdout",
     "output_type": "stream",
     "text": [
      "0.71\n"
     ]
    }
   ],
   "source": [
    "print grid.best_score_\n",
    "#grid.best_params_"
   ]
  },
  {
   "cell_type": "code",
   "execution_count": null,
   "metadata": {
    "collapsed": true
   },
   "outputs": [],
   "source": []
  },
  {
   "cell_type": "markdown",
   "metadata": {},
   "source": [
    "On Your Own:  \n",
    "\n",
    "- Split the data using split the data using test train split\n",
    "\n",
    "- Go through each kernel again and fit your test data\n",
    "- Using a for loop, determine the best model using best_score and best_params\n",
    "- Using predict, how do you score? "
   ]
  },
  {
   "cell_type": "markdown",
   "metadata": {},
   "source": [
    "Note!:  Will add Section here about Cost Functions "
   ]
  },
  {
   "cell_type": "code",
   "execution_count": null,
   "metadata": {
    "collapsed": true
   },
   "outputs": [],
   "source": [
    "# ? flesh this out ? \n",
    "# pip install scikits.learn\n",
    "import svm_gui1"
   ]
  }
 ],
 "metadata": {
  "kernelspec": {
   "display_name": "Python 2",
   "language": "python",
   "name": "python2"
  },
  "language_info": {
   "codemirror_mode": {
    "name": "ipython",
    "version": 2
   },
   "file_extension": ".py",
   "mimetype": "text/x-python",
   "name": "python",
   "nbconvert_exporter": "python",
   "pygments_lexer": "ipython2",
   "version": "2.7.9"
  }
 },
 "nbformat": 4,
 "nbformat_minor": 0
}
